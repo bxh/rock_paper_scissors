{
  "nbformat": 4,
  "nbformat_minor": 0,
  "metadata": {
    "colab": {
      "name": "rock_paper_scissors.ipynb",
      "provenance": [],
      "collapsed_sections": [],
      "toc_visible": true
    },
    "kernelspec": {
      "display_name": "Julia 1.3",
      "language": "julia",
      "name": "julia-1.3"
    },
    "language_info": {
      "file_extension": ".jl",
      "mimetype": "application/julia",
      "name": "julia",
      "version": "1.3"
    },
    "accelerator": "GPU"
  },
  "cells": [
    {
      "cell_type": "markdown",
      "metadata": {
        "id": "AZU6ZEpSGnTv"
      },
      "source": [
        "# Installing Julia 1.3"
      ]
    },
    {
      "cell_type": "code",
      "metadata": {
        "id": "PMGwZ7aFJL8Y",
        "colab": {
          "base_uri": "https://localhost:8080/",
          "height": 86
        },
        "outputId": "42b7b604-e7c9-42f0-e042-712850feadd1"
      },
      "source": [
        "# Installation cell\n",
        "%%shell\n",
        "if ! command -v julia 3>&1 > /dev/null\n",
        "then\n",
        "    wget 'https://julialang-s3.julialang.org/bin/linux/x64/1.3/julia-1.3.1-linux-x86_64.tar.gz' \\\n",
        "        -O /tmp/julia.tar.gz\n",
        "    tar -x -f /tmp/julia.tar.gz -C /usr/local --strip-components 1\n",
        "    rm /tmp/julia.tar.gz\n",
        "fi\n",
        "julia -e 'using Pkg; pkg\"add IJulia; precompile;\"'\n",
        "echo 'Done'"
      ],
      "execution_count": 7,
      "outputs": [
        {
          "output_type": "display_data",
          "data": {
            "text/latex": "Unrecognized magic \\texttt{\\%\\%shell}.\n\nJulia does not use the IPython \\texttt{\\%magic} syntax.   To interact with the IJulia kernel, use \\texttt{IJulia.somefunction(...)}, for example.  Julia macros, string macros, and functions can be used to accomplish most of the other functionalities of IPython magics.\n\n",
            "text/markdown": "Unrecognized magic `%%shell`.\n\nJulia does not use the IPython `%magic` syntax.   To interact with the IJulia kernel, use `IJulia.somefunction(...)`, for example.  Julia macros, string macros, and functions can be used to accomplish most of the other functionalities of IPython magics.\n",
            "text/plain": [
              "  Unrecognized magic \u001b[36m%%shell\u001b[39m.\n",
              "\n",
              "  Julia does not use the IPython \u001b[36m%magic\u001b[39m syntax. To interact with the IJulia\n",
              "  kernel, use \u001b[36mIJulia.somefunction(...)\u001b[39m, for example. Julia macros, string\n",
              "  macros, and functions can be used to accomplish most of the other\n",
              "  functionalities of IPython magics."
            ]
          },
          "metadata": {
            "tags": []
          }
        }
      ]
    },
    {
      "cell_type": "markdown",
      "metadata": {
        "id": "b6UXtrtvGyMO"
      },
      "source": [
        "# Load Packages"
      ]
    },
    {
      "cell_type": "code",
      "metadata": {
        "id": "iIxu4TjlJnBG",
        "colab": {
          "base_uri": "https://localhost:8080/",
          "height": 929
        },
        "outputId": "8fd5b353-3edf-4d0b-9c6a-82595ec59499"
      },
      "source": [
        "#Julia 1.3 Environment\n",
        "using Pkg\n",
        "pkg\"add BenchmarkTools; precompile;\"\n",
        "pkg\"add CuArrays; precompile;\"\n",
        "pkg\"add Plots; precompile;\"\n",
        "pkg\"add Flux; precompile;\"\n",
        "pkg\"add Images; precompile;\"\n",
        "pkg\"add Interact; precompile;\"\n",
        "pkg\"add JLD2; precompile;\"\n",
        "pkg\"add IterTools; precompile;\"\n",
        "Pkg\"add BSON; precompile;\""
      ],
      "execution_count": 32,
      "outputs": [
        {
          "output_type": "stream",
          "text": [
            "\u001b[32m\u001b[1m Resolving\u001b[22m\u001b[39m package versions...\n",
            "\u001b[32m\u001b[1m  Updating\u001b[22m\u001b[39m `~/.julia/environments/v1.3/Project.toml`\n",
            "\u001b[90m [no changes]\u001b[39m\n",
            "\u001b[32m\u001b[1m  Updating\u001b[22m\u001b[39m `~/.julia/environments/v1.3/Manifest.toml`\n",
            " \u001b[90m [a09fc81d]\u001b[39m\u001b[93m ↑ ImageCore v0.8.12 ⇒ v0.8.21\u001b[39m\n",
            " \u001b[90m [dbb5928d]\u001b[39m\u001b[93m ↑ MappedArrays v0.2.2 ⇒ v0.3.0\u001b[39m\n",
            " \u001b[90m [e94cdb99]\u001b[39m\u001b[92m + MosaicViews v0.2.4\u001b[39m\n",
            "\u001b[32m\u001b[1mPrecompiling\u001b[22m\u001b[39m project...\n",
            "\u001b[32m\u001b[1m Resolving\u001b[22m\u001b[39m package versions...\n",
            "\u001b[32m\u001b[1m  Updating\u001b[22m\u001b[39m `~/.julia/environments/v1.3/Project.toml`\n",
            "\u001b[90m [no changes]\u001b[39m\n",
            "\u001b[32m\u001b[1m  Updating\u001b[22m\u001b[39m `~/.julia/environments/v1.3/Manifest.toml`\n",
            "\u001b[90m [no changes]\u001b[39m\n",
            "\u001b[32m\u001b[1mPrecompiling\u001b[22m\u001b[39m project...\n",
            "\u001b[32m\u001b[1m Resolving\u001b[22m\u001b[39m package versions...\n",
            "\u001b[32m\u001b[1m  Updating\u001b[22m\u001b[39m `~/.julia/environments/v1.3/Project.toml`\n",
            "\u001b[90m [no changes]\u001b[39m\n",
            "\u001b[32m\u001b[1m  Updating\u001b[22m\u001b[39m `~/.julia/environments/v1.3/Manifest.toml`\n",
            "\u001b[90m [no changes]\u001b[39m\n",
            "\u001b[32m\u001b[1mPrecompiling\u001b[22m\u001b[39m project...\n",
            "\u001b[32m\u001b[1m Resolving\u001b[22m\u001b[39m package versions...\n",
            "\u001b[32m\u001b[1m  Updating\u001b[22m\u001b[39m `~/.julia/environments/v1.3/Project.toml`\n",
            "\u001b[90m [no changes]\u001b[39m\n",
            "\u001b[32m\u001b[1m  Updating\u001b[22m\u001b[39m `~/.julia/environments/v1.3/Manifest.toml`\n",
            "\u001b[90m [no changes]\u001b[39m\n",
            "\u001b[32m\u001b[1mPrecompiling\u001b[22m\u001b[39m project...\n",
            "\u001b[32m\u001b[1m Resolving\u001b[22m\u001b[39m package versions...\n",
            "\u001b[32m\u001b[1m  Updating\u001b[22m\u001b[39m `~/.julia/environments/v1.3/Project.toml`\n",
            "\u001b[90m [no changes]\u001b[39m\n",
            "\u001b[32m\u001b[1m  Updating\u001b[22m\u001b[39m `~/.julia/environments/v1.3/Manifest.toml`\n",
            "\u001b[90m [no changes]\u001b[39m\n",
            "\u001b[32m\u001b[1mPrecompiling\u001b[22m\u001b[39m project...\n",
            "\u001b[32m\u001b[1m Resolving\u001b[22m\u001b[39m package versions...\n",
            "\u001b[32m\u001b[1m  Updating\u001b[22m\u001b[39m `~/.julia/environments/v1.3/Project.toml`\n",
            "\u001b[90m [no changes]\u001b[39m\n",
            "\u001b[32m\u001b[1m  Updating\u001b[22m\u001b[39m `~/.julia/environments/v1.3/Manifest.toml`\n",
            "\u001b[90m [no changes]\u001b[39m\n",
            "\u001b[32m\u001b[1mPrecompiling\u001b[22m\u001b[39m project...\n",
            "\u001b[32m\u001b[1m Resolving\u001b[22m\u001b[39m package versions...\n",
            "\u001b[32m\u001b[1m  Updating\u001b[22m\u001b[39m `~/.julia/environments/v1.3/Project.toml`\n",
            "\u001b[90m [no changes]\u001b[39m\n",
            "\u001b[32m\u001b[1m  Updating\u001b[22m\u001b[39m `~/.julia/environments/v1.3/Manifest.toml`\n",
            "\u001b[90m [no changes]\u001b[39m\n",
            "\u001b[32m\u001b[1mPrecompiling\u001b[22m\u001b[39m project...\n",
            "\u001b[32m\u001b[1m Resolving\u001b[22m\u001b[39m package versions...\n",
            "\u001b[32m\u001b[1m  Updating\u001b[22m\u001b[39m `~/.julia/environments/v1.3/Project.toml`\n",
            "\u001b[90m [no changes]\u001b[39m\n",
            "\u001b[32m\u001b[1m  Updating\u001b[22m\u001b[39m `~/.julia/environments/v1.3/Manifest.toml`\n",
            "\u001b[90m [no changes]\u001b[39m\n",
            "\u001b[32m\u001b[1mPrecompiling\u001b[22m\u001b[39m project...\n"
          ],
          "name": "stdout"
        },
        {
          "output_type": "error",
          "ename": "LoadError",
          "evalue": "ignored",
          "traceback": [
            "\u001b[91mUndefVarError: @Pkg_str not defined\u001b[39m",
            ""
          ]
        }
      ]
    },
    {
      "cell_type": "code",
      "metadata": {
        "id": "V_2NfEaGW815"
      },
      "source": [
        "using Plots, Images, Interact, JLD2, Flux\n",
        "using Flux: onehotbatch, argmax, crossentropy, throttle, mse, onecold, shuffle\n",
        "using Flux.Data: DataLoader\n",
        "using IterTools: ncycle, partition\n",
        "using Statistics: mean\n",
        "\n",
        "theme(\n",
        "    :wong;\n",
        "    format=:png,\n",
        "    label=\"\",\n",
        "    markerstrokewidth=0.3,\n",
        "    markerstrokecolor=\"white\",\n",
        "    markersize=6,\n",
        "    alpha=0.7\n",
        ")\n"
      ],
      "execution_count": 33,
      "outputs": []
    },
    {
      "cell_type": "markdown",
      "metadata": {
        "id": "TRNfbKCtS5Y5"
      },
      "source": [
        "# Load Data\n",
        "\n"
      ]
    },
    {
      "cell_type": "code",
      "metadata": {
        "id": "K8V_1eXcVAGs"
      },
      "source": [
        "X_rock = load(\"rock.jld2\")[\"rock_imgs\"]\n",
        "X_paper = load(\"paper.jld2\")[\"paper_imgs\"]\n",
        "X_scissors = load(\"scissors.jld2\")[\"scissors_imgs\"];\n"
      ],
      "execution_count": 23,
      "outputs": []
    },
    {
      "cell_type": "markdown",
      "metadata": {
        "id": "pRnZRspSTDkD"
      },
      "source": [
        "# Preprocessing\n",
        "\n"
      ]
    },
    {
      "cell_type": "code",
      "metadata": {
        "colab": {
          "base_uri": "https://localhost:8080/"
        },
        "id": "Yq99FobASKbp",
        "outputId": "e6ddc3bd-1634-4750-a85c-61a56ec8eaa2"
      },
      "source": [
        "function array2matrix(X::AbstractArray{T, 4}) where T\n",
        "    height, width, rgb, n_samples = size(X)\n",
        "\n",
        "    Y = zeros(height * width * rgb, n_samples)\n",
        "\n",
        "    for idx in 1:n_samples\n",
        "        Y[:, idx] = vec(X[:, :, :, idx])\n",
        "    end\n",
        "\n",
        "    return Y\n",
        "end"
      ],
      "execution_count": 24,
      "outputs": [
        {
          "output_type": "execute_result",
          "data": {
            "text/plain": [
              "array2matrix (generic function with 1 method)"
            ]
          },
          "metadata": {
            "tags": []
          },
          "execution_count": 24
        }
      ]
    },
    {
      "cell_type": "code",
      "metadata": {
        "colab": {
          "base_uri": "https://localhost:8080/"
        },
        "id": "u249oV5_MZ7y",
        "outputId": "03a6a054-02b0-436e-cd46-ec053a8a7a40"
      },
      "source": [
        "using Random: randperm, seed!\n",
        "\n",
        "function split_train_test(X::AbstractArray, train_fraction::Float64, sample_dim::Int64=ndims(X); seed::Integer=1)\n",
        "    n_samples = size(X, sample_dim)\n",
        "    n_train = round(Integer, n_samples * train_fraction)\n",
        "\n",
        "    rand_idx = randperm(seed!(seed), n_samples)\n",
        "    train_idx = rand_idx[1:n_train]\n",
        "    test_idx = rand_idx[(n_train + 1):end]\n",
        "\n",
        "    X_train = selectdim(X, sample_dim, train_idx)\n",
        "    X_test = selectdim(X, sample_dim, test_idx)\n",
        "\n",
        "    return X_train, X_test\n",
        "end"
      ],
      "execution_count": 25,
      "outputs": [
        {
          "output_type": "execute_result",
          "data": {
            "text/plain": [
              "split_train_test (generic function with 2 methods)"
            ]
          },
          "metadata": {
            "tags": []
          },
          "execution_count": 25
        }
      ]
    },
    {
      "cell_type": "code",
      "metadata": {
        "colab": {
          "base_uri": "https://localhost:8080/"
        },
        "id": "JYLDK1wbNgci",
        "outputId": "997c4a8e-2539-45ea-ef4a-4ff65b2ddf37"
      },
      "source": [
        "n_samples = size(X_rock, 4)\n",
        "train_fraction = 0.6\n",
        "X_rock_vec = array2matrix(X_rock)\n",
        "X_paper_vec = array2matrix(X_paper)\n",
        "X_scissors_vec = array2matrix(X_scissors)\n",
        "X_train_rock, X_test_rock = split_train_test(X_rock_vec, train_fraction)\n",
        "X_train_paper, X_test_paper = split_train_test(X_paper_vec, train_fraction)\n",
        "X_train_scissors, X_test_scissors = split_train_test(X_scissors_vec, train_fraction)\n",
        "\n",
        "X_train = hcat(X_train_rock, X_train_paper, X_train_scissors)\n",
        "X_test = hcat(X_test_rock, X_test_paper, X_test_scissors)\n",
        "\n",
        "labels_train = vcat(\n",
        "  ones(size(X_train_rock, 2)),\n",
        "  ones(size(X_train_paper, 2)) * 2,\n",
        "  ones(size(X_train_scissors, 2)) * 3\n",
        ")\n",
        "\n",
        "@show size(labels_train)\n",
        "\n",
        "Y_train = onehotbatch(Int64.(labels_train), 1:3)\n",
        "\n",
        "labels_test = vcat(\n",
        "  ones(size(X_test_rock, 2)),\n",
        "  ones(size(X_test_paper, 2)) * 2,\n",
        "  ones(size(X_test_scissors, 2)) * 3\n",
        ")\n",
        "\n",
        "@show size(labels_test)\n",
        "\n",
        "Y_test = onehotbatch(Int64.(labels_test), 1:3)\n",
        "\n",
        "@show size(X_train)\n",
        "@show size(X_test)\n",
        "@show size(Y_train)\n",
        "@show size(Y_test)\n",
        "\n"
      ],
      "execution_count": 26,
      "outputs": [
        {
          "output_type": "stream",
          "text": [
            "size(labels_train) = (1278,)\n",
            "size(labels_test) = (852,)\n",
            "size(X_train) = (7200, 1278)\n",
            "size(X_test) = (7200, 852)\n",
            "size(Y_train) = (3, 1278)\n",
            "size(Y_test) = (3, 852)\n"
          ],
          "name": "stdout"
        },
        {
          "output_type": "execute_result",
          "data": {
            "text/plain": [
              "(3, 852)"
            ]
          },
          "metadata": {
            "tags": []
          },
          "execution_count": 26
        }
      ]
    },
    {
      "cell_type": "markdown",
      "metadata": {
        "id": "uXlzgWlQTep5"
      },
      "source": [
        "# Training"
      ]
    },
    {
      "cell_type": "code",
      "metadata": {
        "colab": {
          "base_uri": "https://localhost:8080/"
        },
        "id": "Vwy5h6fqIAla",
        "outputId": "2dc6dffd-94c3-43ed-9ded-579ace58f09b"
      },
      "source": [
        "num_nodes = 250\n",
        "m = Chain(\n",
        "    Dense(7200, num_nodes, relu),\n",
        "    Dense(num_nodes, num_nodes, relu),\n",
        "    Dense(num_nodes, num_nodes, relu),\n",
        "    Dense(num_nodes, num_nodes, relu),\n",
        "    Dense(num_nodes, 3, relu),\n",
        "    softmax\n",
        ")\n",
        "\n",
        "using BSON: @save\n",
        "@save \"model.bson\" m\n",
        "\n",
        "loss(x, y) = crossentropy(m(x), y) \n",
        "accuracy(x, y) = mean(onecold(m(x)) .== onecold(y))\n",
        "\n",
        "@show loss(X_train, Y_train)\n",
        "@show accuracy(X_train, Y_train)\n",
        "\n",
        "opt = ADAM(1e-4);\n",
        "\n",
        "function evalcb()\n",
        "    l = round(loss(X_train, Y_train); digits=4)\n",
        "    a = round(accuracy(X_train, Y_train); digits=4)\n",
        "    println(\"Loss: $(l)\\tAccuracy: $(a)\")\n",
        "end\n",
        "\n",
        "batchsize = 100\n",
        "epochs = 50 \n",
        "\n",
        "train_loader = DataLoader(X_train, Y_train; batchsize=batchsize, shuffle=true)\n",
        "Flux.train!(loss, params(m), ncycle(train_loader, epochs), opt; cb=throttle(evalcb, 2.0))\n",
        "\n",
        "test_accuracy = accuracy(X_test, Y_test)\n",
        "println(\"Test accuracy is $(test_accuracy)\")"
      ],
      "execution_count": 27,
      "outputs": [
        {
          "output_type": "stream",
          "text": [
            "loss(X_train, Y_train) = 1.106476f0\n",
            "accuracy(X_train, Y_train) = 0.30359937402190923\n",
            "Loss: 1.1024\tAccuracy: 0.3341\n",
            "Loss: 1.0215\tAccuracy: 0.4742\n",
            "Loss: 0.9987\tAccuracy: 0.4077\n",
            "Loss: 0.8956\tAccuracy: 0.5962\n",
            "Loss: 0.8522\tAccuracy: 0.6972\n",
            "Loss: 0.8277\tAccuracy: 0.7089\n",
            "Loss: 0.7913\tAccuracy: 0.7833\n",
            "Loss: 0.748\tAccuracy: 0.741\n",
            "Loss: 0.7309\tAccuracy: 0.7402\n",
            "Loss: 0.6935\tAccuracy: 0.7746\n",
            "Loss: 0.6748\tAccuracy: 0.8059\n",
            "Loss: 0.7388\tAccuracy: 0.6909\n",
            "Loss: 0.6754\tAccuracy: 0.7285\n",
            "Loss: 0.643\tAccuracy: 0.8279\n",
            "Loss: 0.6172\tAccuracy: 0.8717\n",
            "Loss: 0.6222\tAccuracy: 0.8599\n",
            "Loss: 0.5874\tAccuracy: 0.8302\n",
            "Loss: 0.5712\tAccuracy: 0.8631\n",
            "Loss: 0.5637\tAccuracy: 0.8365\n",
            "Loss: 0.5796\tAccuracy: 0.9272\n",
            "Loss: 0.5316\tAccuracy: 0.8826\n",
            "Loss: 0.5378\tAccuracy: 0.8678\n",
            "Loss: 0.5173\tAccuracy: 0.9178\n",
            "Loss: 0.5116\tAccuracy: 0.9272\n",
            "Loss: 0.5059\tAccuracy: 0.8623\n",
            "Loss: 0.494\tAccuracy: 0.9225\n",
            "Loss: 0.5008\tAccuracy: 0.9523\n",
            "Loss: 0.4786\tAccuracy: 0.9092\n",
            "Loss: 0.4801\tAccuracy: 0.8959\n",
            "Loss: 0.4794\tAccuracy: 0.8834\n",
            "Loss: 0.4677\tAccuracy: 0.9531\n",
            "Loss: 0.4768\tAccuracy: 0.9264\n",
            "Loss: 0.4623\tAccuracy: 0.9429\n",
            "Loss: 0.48\tAccuracy: 0.8576\n",
            "Loss: 0.47\tAccuracy: 0.9413\n",
            "Loss: 0.4479\tAccuracy: 0.9523\n",
            "Loss: 0.451\tAccuracy: 0.9515\n",
            "Loss: 0.4375\tAccuracy: 0.957\n",
            "Loss: 0.4377\tAccuracy: 0.9664\n",
            "Loss: 0.4492\tAccuracy: 0.9194\n",
            "Loss: 0.4413\tAccuracy: 0.928\n",
            "Loss: 0.4296\tAccuracy: 0.9624\n",
            "Loss: 0.4354\tAccuracy: 0.9679\n",
            "Loss: 0.4266\tAccuracy: 0.9679\n",
            "Loss: 0.4256\tAccuracy: 0.9562\n",
            "Loss: 0.4202\tAccuracy: 0.9624\n",
            "Loss: 0.4178\tAccuracy: 0.957\n",
            "Loss: 0.4199\tAccuracy: 0.9531\n",
            "Loss: 0.4197\tAccuracy: 0.946\n",
            "Loss: 0.4171\tAccuracy: 0.9632\n",
            "Loss: 0.4184\tAccuracy: 0.9554\n",
            "Loss: 0.4166\tAccuracy: 0.9507\n",
            "Loss: 0.4102\tAccuracy: 0.9679\n",
            "Loss: 0.4098\tAccuracy: 0.971\n",
            "Loss: 0.417\tAccuracy: 0.9757\n",
            "Loss: 0.4145\tAccuracy: 0.9632\n",
            "Loss: 0.4075\tAccuracy: 0.9687\n",
            "Loss: 0.406\tAccuracy: 0.9742\n",
            "Loss: 0.4047\tAccuracy: 0.9742\n",
            "Loss: 0.4066\tAccuracy: 0.9491\n",
            "Loss: 0.4053\tAccuracy: 0.975\n",
            "Loss: 0.4017\tAccuracy: 0.9671\n",
            "Loss: 0.4054\tAccuracy: 0.9789\n",
            "Loss: 0.401\tAccuracy: 0.9617\n",
            "Loss: 0.4125\tAccuracy: 0.9757\n",
            "Test accuracy is 0.9577464788732394\n"
          ],
          "name": "stdout"
        }
      ]
    },
    {
      "cell_type": "markdown",
      "metadata": {
        "id": "a_Uh5dAuskaY"
      },
      "source": [
        "# Evaluation"
      ]
    },
    {
      "cell_type": "markdown",
      "metadata": {
        "id": "sprH6hbwvjes"
      },
      "source": [
        "Load Model"
      ]
    },
    {
      "cell_type": "code",
      "metadata": {
        "colab": {
          "base_uri": "https://localhost:8080/",
          "height": 1000
        },
        "id": "-Vf2vzJAvoVH",
        "outputId": "a25e6a75-e58e-4ae2-ffc1-a2d6b1c1bb11"
      },
      "source": [
        "using BSON: @load\n",
        "using JLD\n",
        "@load \"my_deep_rps_model.bson\" m"
      ],
      "execution_count": 21,
      "outputs": [
        {
          "output_type": "stream",
          "text": [
            "\u001b[32m\u001b[1m Resolving\u001b[22m\u001b[39m package versions...\n",
            "\u001b[32m\u001b[1m  Updating\u001b[22m\u001b[39m `~/.julia/environments/v1.3/Project.toml`\n",
            "\u001b[90m [no changes]\u001b[39m\n",
            "\u001b[32m\u001b[1m  Updating\u001b[22m\u001b[39m `~/.julia/environments/v1.3/Manifest.toml`\n",
            "\u001b[90m [no changes]\u001b[39m\n",
            "\u001b[32m\u001b[1m Resolving\u001b[22m\u001b[39m package versions...\n",
            "\u001b[32m\u001b[1m Installed\u001b[22m\u001b[39m HDF5_jll ──── v1.12.0+1\n",
            "\u001b[32m\u001b[1m Installed\u001b[22m\u001b[39m JLD ───────── v0.12.3\n",
            "\u001b[32m\u001b[1m Installed\u001b[22m\u001b[39m Lz4_jll ───── v1.9.2+2\n",
            "\u001b[32m\u001b[1m Installed\u001b[22m\u001b[39m Zstd_jll ──── v1.4.8+0\n",
            "\u001b[32m\u001b[1m Installed\u001b[22m\u001b[39m LibCURL_jll ─ v7.70.0+2\n",
            "\u001b[32m\u001b[1m Installed\u001b[22m\u001b[39m nghttp2_jll ─ v1.40.0+2\n",
            "\u001b[32m\u001b[1m Installed\u001b[22m\u001b[39m HDF5 ──────── v0.15.4\n",
            "\u001b[32m\u001b[1m Installed\u001b[22m\u001b[39m Blosc ─────── v0.7.0\n",
            "\u001b[32m\u001b[1m Installed\u001b[22m\u001b[39m Blosc_jll ─── v1.14.3+1\n",
            "\u001b[32m\u001b[1m Installed\u001b[22m\u001b[39m LibSSH2_jll ─ v1.9.0+3\n",
            "\u001b[32m\u001b[1m  Updating\u001b[22m\u001b[39m `~/.julia/environments/v1.3/Project.toml`\n",
            " \u001b[90m [4138dd39]\u001b[39m\u001b[92m + JLD v0.12.3\u001b[39m\n",
            "\u001b[32m\u001b[1m  Updating\u001b[22m\u001b[39m `~/.julia/environments/v1.3/Manifest.toml`\n",
            " \u001b[90m [a74b3585]\u001b[39m\u001b[92m + Blosc v0.7.0\u001b[39m\n",
            " \u001b[90m [0b7ba130]\u001b[39m\u001b[92m + Blosc_jll v1.14.3+1\u001b[39m\n",
            " \u001b[90m [34da2185]\u001b[39m\u001b[92m + Compat v3.27.0\u001b[39m\n",
            " \u001b[90m [f67ccb44]\u001b[39m\u001b[92m + HDF5 v0.15.4\u001b[39m\n",
            " \u001b[90m [0234f1f7]\u001b[39m\u001b[92m + HDF5_jll v1.12.0+1\u001b[39m\n",
            " \u001b[90m [a09fc81d]\u001b[39m\u001b[95m ↓ ImageCore v0.8.21 ⇒ v0.8.12\u001b[39m\n",
            " \u001b[90m [4138dd39]\u001b[39m\u001b[92m + JLD v0.12.3\u001b[39m\n",
            " \u001b[90m [deac9b47]\u001b[39m\u001b[92m + LibCURL_jll v7.70.0+2\u001b[39m\n",
            " \u001b[90m [29816b5a]\u001b[39m\u001b[92m + LibSSH2_jll v1.9.0+3\u001b[39m\n",
            " \u001b[90m [5ced341a]\u001b[39m\u001b[92m + Lz4_jll v1.9.2+2\u001b[39m\n",
            " \u001b[90m [dbb5928d]\u001b[39m\u001b[95m ↓ MappedArrays v0.3.0 ⇒ v0.2.2\u001b[39m\n",
            " \u001b[90m [e94cdb99]\u001b[39m\u001b[91m - MosaicViews v0.2.4\u001b[39m\n",
            " \u001b[90m [3161d3a3]\u001b[39m\u001b[92m + Zstd_jll v1.4.8+0\u001b[39m\n",
            " \u001b[90m [8e850ede]\u001b[39m\u001b[92m + nghttp2_jll v1.40.0+2\u001b[39m\n",
            "\u001b[32m\u001b[1m  Building\u001b[22m\u001b[39m HDF5 → `~/.julia/packages/HDF5/iH4LA/deps/build.log`\n"
          ],
          "name": "stdout"
        },
        {
          "output_type": "stream",
          "text": [
            "WARNING: ignoring conflicting import of BSON.@load into Main\n",
            "┌ Info: Precompiling JLD [4138dd39-2aa7-5051-a626-17a0bb65d9c8]\n",
            "└ @ Base loading.jl:1273\n",
            "WARNING: could not import HDF5.HDF5Group into _hdf5_implementation\n",
            "WARNING: could not import HDF5.HDF5Dataset into _hdf5_implementation\n",
            "┌ Warning: Error requiring `HDF5` from `Plots`\n",
            "│   exception = (LoadError(\"/root/.julia/packages/Plots/uCh2y/src/backends/hdf5.jl\", 162, UndefVarError(:HDF5Group)), Union{Ptr{Nothing}, Base.InterpreterIP}[Ptr{Nothing} @0x00007fb093c6cc3b, Ptr{Nothing} @0x00007fb093c46004, Ptr{Nothing} @0x00007fb093c14240, Ptr{Nothing} @0x00007fb093da2faf, Ptr{Nothing} @0x00007fb093da35de, Ptr{Nothing} @0x00007fb093da3250, Ptr{Nothing} @0x00007fb093da3d84, Ptr{Nothing} @0x00007fb093da458f, Base.InterpreterIP(CodeInfo(\n",
            "   \u001b[33m @ /root/.julia/packages/Plots/uCh2y/src/backends/hdf5.jl:162 within `top-level scope'\u001b[39m\n",
            "\u001b[90m1 ─\u001b[39m      $(Expr(:thunk, CodeInfo(\n",
            "   \u001b[33m @ none within `top-level scope'\u001b[39m\n",
            "\u001b[90m1 ─\u001b[39m     return $(Expr(:method, :_write_datatype_attr))\n",
            ")))\n",
            "\u001b[90m│  \u001b[39m      $(Expr(:method, :_write_datatype_attr))\n",
            "\u001b[90m│  \u001b[39m %3 = Core.TypeVar(:T)\n",
            "\u001b[90m│  \u001b[39m %4 = Core.Typeof(_write_datatype_attr)\n",
            "\u001b[90m│  \u001b[39m %5 = Core.apply_type(Union, HDF5Group, HDF5Dataset)\n",
            "\u001b[90m│  \u001b[39m %6 = Core.apply_type(Type, %3)\n",
            "\u001b[90m│  \u001b[39m %7 = Core.svec(%4, %5, %6)\n",
            "\u001b[90m│  \u001b[39m %8 = Core.svec(%3)\n",
            "\u001b[90m│  \u001b[39m %9 = Core.svec(%7, %8)\n",
            "\u001b[90m│  \u001b[39m      $(Expr(:method, :_write_datatype_attr, :(%9), CodeInfo(quote\n",
            "    typestr = Base.getindex(HDF5PLOT_MAP_TELEM2STR, $(Expr(:static_parameter, 1)))\n",
            "    Base.getproperty(HDF5, :attrs)\n",
            "    (%2)(ds)\n",
            "    typestr\n",
            "    Base.setindex!(%3, %4, \"TYPE\")\n",
            "    return typestr\n",
            "end)))\n",
            "\u001b[90m└──\u001b[39m      return\n",
            "), 0x0000000000000004), Ptr{Nothing} @0x00007fb093da4f5d, Ptr{Nothing} @0x00007fb093c5ec56, Ptr{Nothing} @0x00007fb093c5f169, Ptr{Nothing} @0x00007fb093c5e7db, Ptr{Nothing} @0x00007fb093c5e77a, Ptr{Nothing} @0x00007fb093c3511e, Ptr{Nothing} @0x00007fb093c5fa93, Ptr{Nothing} @0x00007fb0869ad32f, Ptr{Nothing} @0x00007fb06d9dd519, Ptr{Nothing} @0x00007fb093c2a3fc, Ptr{Nothing} @0x00007fb093da35fe, Ptr{Nothing} @0x00007fb093da3250, Ptr{Nothing} @0x00007fb093da3d84, Ptr{Nothing} @0x00007fb093da458f, Base.InterpreterIP(CodeInfo(\n",
            "   \u001b[33m @ /root/.julia/packages/IJulia/e8kqU/src/kernel.jl:53 within `top-level scope'\u001b[39m\n",
            "\u001b[90m1 ─\u001b[39m       const HDF5\n",
            "\u001b[90m│  \u001b[39m %2  = Base.getproperty(Base, :require)\n",
            "\u001b[90m│  \u001b[39m %3  = Base.getproperty(Base, :PkgId)\n",
            "\u001b[90m│  \u001b[39m %4  = Base.getproperty(Base, :UUID)\n",
            "\u001b[90m│  \u001b[39m %5  = (%4)(\"f67ccb44-e63f-5c2f-98bd-6dc0ccc4ba2f\")\n",
            "\u001b[90m│  \u001b[39m %6  = (%3)(%5, \"HDF5\")\n",
            "\u001b[90m│  \u001b[39m %7  = (%2)(%6)\n",
            "\u001b[90m│  \u001b[39m       HDF5 = %7\n",
            "\u001b[90m│ \u001b[39m \u001b[33m└\u001b[39m\n",
            "\u001b[90m│ \u001b[39m \u001b[33m @ /root/.julia/packages/Plots/uCh2y/src/init.jl:33 within `top-level scope'\u001b[39m\n",
            "\u001b[90m│  \u001b[39m %9  = joinpath(\"/root/.julia/packages/Plots/uCh2y/src\", \"backends\", \"hdf5.jl\")\n",
            "\u001b[90m│  \u001b[39m       fn = %9\n",
            "\u001b[90m│ \u001b[39m \u001b[33m @ /root/.julia/packages/Plots/uCh2y/src/init.jl:34 within `top-level scope'\u001b[39m\n",
            "\u001b[90m│  \u001b[39m %11 = include(fn)\n",
            "\u001b[90m└──\u001b[39m       return %11\n",
            "), 0x000000000000000a), Ptr{Nothing} @0x00007fb093da4f5d, Ptr{Nothing} @0x00007fb093c5ec56, Ptr{Nothing} @0x00007fb093c5f8b5, Ptr{Nothing} @0x00007fb06d9dd3f2, Ptr{Nothing} @0x00007fb06d9dd41d, Ptr{Nothing} @0x00007fb093c2a3fc, Ptr{Nothing} @0x00007fb06d817e45, Ptr{Nothing} @0x00007fb06d9dd35e, Ptr{Nothing} @0x00007fb06d9dd37d, Ptr{Nothing} @0x00007fb093c2a3fc, Ptr{Nothing} @0x00007fb06d7e6d37, Ptr{Nothing} @0x00007fb06d9dd2e6, Ptr{Nothing} @0x00007fb06d9dd30d, Ptr{Nothing} @0x00007fb093c2a3fc, Ptr{Nothing} @0x00007fb093c39274, Ptr{Nothing} @0x00007fb093c39a62, Ptr{Nothing} @0x00007fb06d7a4fd0, Ptr{Nothing} @0x00007fb093c2a79c, Ptr{Nothing} @0x00007fb093c39274, Ptr{Nothing} @0x00007fb093c39a62, Ptr{Nothing} @0x00007fb06e4dda4b, Ptr{Nothing} @0x00007fb06e4de152, Ptr{Nothing} @0x00007fb06e4e461e, Ptr{Nothing} @0x00007fb06e4e0d95, Ptr{Nothing} @0x00007fb06e4e680e, Ptr{Nothing} @0x00007fb093c2a79c, Ptr{Nothing} @0x00007fb093c5d5ab, Ptr{Nothing} @0x00007fb093c5e9ea, Ptr{Nothing} @0x00007fb093da4359, Ptr{Nothing} @0x00007fb093da458f, Base.InterpreterIP(CodeInfo(\n",
            "   \u001b[33m @ In[21]:4 within `top-level scope'\u001b[39m\n",
            "\u001b[90m1 ─\u001b[39m     using JLD\n",
            "\u001b[90m└──\u001b[39m     return\n",
            "), 0x0000000000000000), Ptr{Nothing} @0x00007fb093da4f5d, Ptr{Nothing} @0x00007fb093c5ec56, Ptr{Nothing} @0x00007fb093c5f8b5, Ptr{Nothing} @0x00007fb06e58c949, Ptr{Nothing} @0x00007fb093c2a79c, Ptr{Nothing} @0x00007fb06e58ac56, Ptr{Nothing} @0x00007fb093c2a79c, Ptr{Nothing} @0x00007fb093c39274, Ptr{Nothing} @0x00007fb093c39a62, Ptr{Nothing} @0x00007fb080cb96e3, Ptr{Nothing} @0x00007fb080cb98bf, Ptr{Nothing} @0x00007fb080cb98dd, Ptr{Nothing} @0x00007fb093c2a3fc, Ptr{Nothing} @0x00007fb093c45e79, Ptr{Nothing} @0x0000000000000000])\n",
            "└ @ Requires /root/.julia/packages/Requires/7Ncym/src/require.jl:49\n",
            "WARNING: using JLD.jldopen in module Main conflicts with an existing identifier.\n",
            "WARNING: using JLD.@load in module Main conflicts with an existing identifier.\n"
          ],
          "name": "stderr"
        },
        {
          "output_type": "error",
          "ename": "ArgumentError",
          "evalue": "ignored",
          "traceback": [
            "\u001b[91mArgumentError: \"/content/my_deep_rps_model.bson\" is not a JLD2 file\u001b[39m",
            "",
            "Stacktrace:",
            " [1] verify_file_header(::JLD2.JLDFile{JLD2.MmapIO}) at /root/.julia/packages/JLD2/qncOK/src/file_header.jl:26",
            " [2] #jldopen#9(::Type{IOStream}, ::Bool, ::Bool, ::typeof(jldopen), ::String, ::Bool, ::Bool, ::Bool, ::Type{JLD2.MmapIO}) at /root/.julia/packages/JLD2/qncOK/src/JLD2.jl:272",
            " [3] jldopen(::String, ::Bool, ::Bool, ::Bool, ::Type{JLD2.MmapIO}) at /root/.julia/packages/JLD2/qncOK/src/JLD2.jl:221",
            " [4] #jldopen#10(::Type, ::Base.Iterators.Pairs{Union{},Union{},Tuple{},NamedTuple{(),Tuple{}}}, ::typeof(jldopen), ::String, ::String) at /root/.julia/packages/JLD2/qncOK/src/JLD2.jl:313",
            " [5] jldopen at /root/.julia/packages/JLD2/qncOK/src/JLD2.jl:308 [inlined] (repeats 2 times)",
            " [6] #jldopen#36(::Base.Iterators.Pairs{Union{},Union{},Tuple{},NamedTuple{(),Tuple{}}}, ::typeof(jldopen), ::var\"#8#9\", ::String) at /root/.julia/packages/JLD2/qncOK/src/loadsave.jl:2",
            " [7] jldopen(::Function, ::String) at /root/.julia/packages/JLD2/qncOK/src/loadsave.jl:2",
            " [8] top-level scope at /root/.julia/packages/JLD2/qncOK/src/loadsave.jl:144",
            " [9] top-level scope at In[21]:5"
          ]
        }
      ]
    },
    {
      "cell_type": "markdown",
      "metadata": {
        "id": "TOqLxlyOstPG"
      },
      "source": [
        "Compute Confusion Matrix"
      ]
    },
    {
      "cell_type": "code",
      "metadata": {
        "id": "A_xCMHxDsrrP",
        "colab": {
          "base_uri": "https://localhost:8080/",
          "height": 504
        },
        "outputId": "d23868c7-bba9-4293-cbc0-95ba69b16bb0"
      },
      "source": [
        "Y_out = m(X_test)\n",
        "\n",
        "test_predicted = onecold(Y_out)\n",
        "test_actual = onecold(Y_test)\n",
        "\n",
        "confusion_matrix = zeros(3, 3)\n",
        "for i in 1:3\n",
        "    indices_i = findall(test_actual .== i)\n",
        "    \n",
        "    # predictions for class i\n",
        "    predictions_i = test_predicted[indices_i]\n",
        "    \n",
        "    for j in 1:3\n",
        "        # fraction of class i samples labeled as class j\n",
        "        confusion_matrix[i, j] = sum(predictions_i .== j) / length(indices_i)\n",
        "    end\n",
        "end\n",
        "\n",
        "heatmap(\n",
        "    confusion_matrix;\n",
        "    aspect_ratio=1.0,\n",
        "    yflip=true,\n",
        "    xticks=(collect(1:3), [\"Rock\", \"Paper\", \"Scissors\"]),\n",
        "    yticks=(collect(1:3), [\"Rock\", \"Paper\", \"Scissors\"]),\n",
        "    size=(500, 470)\n",
        ")"
      ],
      "execution_count": 36,
      "outputs": [
        {
          "output_type": "stream",
          "text": [
            "WARNING: using BenchmarkTools.params in module Main conflicts with an existing identifier.\n"
          ],
          "name": "stderr"
        },
        {
          "output_type": "execute_result",
          "data": {
            "image/png": "[encoded data removed]"
          },
          "metadata": {
            "tags": []
          },
          "execution_count": 36
        }
      ]
    },
    {
      "cell_type": "code",
      "metadata": {
        "colab": {
          "base_uri": "https://localhost:8080/"
        },
        "id": "NkvHCGXaCAqW",
        "outputId": "37151fde-d54f-4c05-f400-c62a1a071861"
      },
      "source": [
        "@show confusion_matrix"
      ],
      "execution_count": 29,
      "outputs": [
        {
          "output_type": "stream",
          "text": [
            "confusion_matrix = [0.9647887323943662 0.014084507042253521 0.02112676056338028; 0.04225352112676056 0.9190140845070423 0.03873239436619718; 0.007042253521126761 0.0035211267605633804 0.9894366197183099]\n"
          ],
          "name": "stdout"
        },
        {
          "output_type": "execute_result",
          "data": {
            "text/plain": [
              "3×3 Array{Float64,2}:\n",
              " 0.964789    0.0140845   0.0211268\n",
              " 0.0422535   0.919014    0.0387324\n",
              " 0.00704225  0.00352113  0.989437 "
            ]
          },
          "metadata": {
            "tags": []
          },
          "execution_count": 29
        }
      ]
    },
    {
      "cell_type": "markdown",
      "metadata": {
        "id": "G0-NM9TkErEK"
      },
      "source": [
        "# Comparison with GPU\n",
        "\n"
      ]
    },
    {
      "cell_type": "code",
      "metadata": {
        "colab": {
          "base_uri": "https://localhost:8080/"
        },
        "id": "r8KsAM5VpEtw",
        "outputId": "d8ad3642-ecd6-4dd1-9921-0bb9e1fd2bb6"
      },
      "source": [
        "pkg\"add CuArrays; precompile;\""
      ],
      "execution_count": 40,
      "outputs": [
        {
          "output_type": "stream",
          "text": [
            "\u001b[32m\u001b[1m Resolving\u001b[22m\u001b[39m package versions...\n",
            "\u001b[32m\u001b[1m  Updating\u001b[22m\u001b[39m `~/.julia/environments/v1.3/Project.toml`\n",
            "\u001b[90m [no changes]\u001b[39m\n",
            "\u001b[32m\u001b[1m  Updating\u001b[22m\u001b[39m `~/.julia/environments/v1.3/Manifest.toml`\n",
            "\u001b[90m [no changes]\u001b[39m\n",
            "\u001b[32m\u001b[1mPrecompiling\u001b[22m\u001b[39m project...\n"
          ],
          "name": "stdout"
        }
      ]
    },
    {
      "cell_type": "code",
      "metadata": {
        "colab": {
          "base_uri": "https://localhost:8080/"
        },
        "id": "4PTYVfVsFVRX",
        "outputId": "cf63eead-8fe2-4e5e-cf2d-33fcd057577c"
      },
      "source": [
        "using BenchmarkTools\n",
        "using CuArrays\n",
        "\n",
        "CuArrays.allowscalar(false)\n",
        "\n",
        "m2 = Chain(\n",
        "    Dense(7200, num_nodes, relu),\n",
        "    Dense(num_nodes, num_nodes, relu),\n",
        "    Dense(num_nodes, num_nodes, relu),\n",
        "    Dense(num_nodes, num_nodes, relu),\n",
        "    Dense(num_nodes, 3, relu),\n",
        "    softmax\n",
        ") |> gpu\n",
        "\n",
        "X_train2 = X_train |> gpu\n",
        "Y_train2 = Y_train |> gpu\n",
        "\n",
        "loss2(x, y) = crossentropy(m2(x), y) \n",
        "accuracy2(x, y) = mean(onecold(m2(x) |> cpu) .== onecold(y |> cpu))\n",
        "function evalcb2()\n",
        "    l = round(loss2(X_train2, Y_train2); digits=4)\n",
        "    a = round(accuracy2(X_train2, Y_train2); digits=4)\n",
        "    println(\"Loss: $(l)\\tAccuracy: $(a)\")\n",
        "end\n",
        "\n",
        "train_loader2 = DataLoader(X_train2, Y_train2; batchsize=batchsize, shuffle=true)\n",
        "@benchmark Flux.train!(loss2, params(m2), ncycle(train_loader2, epochs), opt; cb=throttle(evalcb2, 2.0))\n"
      ],
      "execution_count": 48,
      "outputs": [
        {
          "output_type": "stream",
          "text": [
            "Loss: 1.1148\tAccuracy: 0.3333\n",
            "Loss: 0.8145\tAccuracy: 0.3333\n",
            "Loss: 0.7854\tAccuracy: 0.3333\n",
            "Loss: 0.7481\tAccuracy: 0.3333\n",
            "Loss: 0.7462\tAccuracy: 0.3333\n",
            "Loss: 0.7431\tAccuracy: 0.3333\n",
            "Loss: 0.7424\tAccuracy: 0.3333\n",
            "Loss: 0.753\tAccuracy: 0.3333\n",
            "Loss: 0.74\tAccuracy: 0.3333\n",
            "Loss: 0.7414\tAccuracy: 0.3333\n",
            "Loss: 0.7408\tAccuracy: 0.3333\n",
            "Loss: 0.7768\tAccuracy: 0.3333\n",
            "Loss: 0.7434\tAccuracy: 0.3333\n",
            "Loss: 0.7375\tAccuracy: 0.3333\n",
            "Loss: 0.7362\tAccuracy: 0.3333\n",
            "Loss: 0.7361\tAccuracy: 0.3333\n"
          ],
          "name": "stdout"
        },
        {
          "output_type": "execute_result",
          "data": {
            "text/plain": [
              "BenchmarkTools.Trial: \n",
              "  memory estimate:  221.81 MiB\n",
              "  allocs estimate:  5635959\n",
              "  --------------\n",
              "  minimum time:     7.046 s (0.73% GC)\n",
              "  median time:      7.046 s (0.73% GC)\n",
              "  mean time:        7.046 s (0.73% GC)\n",
              "  maximum time:     7.046 s (0.73% GC)\n",
              "  --------------\n",
              "  samples:          1\n",
              "  evals/sample:     1"
            ]
          },
          "metadata": {
            "tags": []
          },
          "execution_count": 48
        }
      ]
    },
    {
      "cell_type": "code",
      "metadata": {
        "colab": {
          "base_uri": "https://localhost:8080/"
        },
        "id": "P90Zr993rEcB",
        "outputId": "6ac257a5-bca5-469e-fa51-5dc270f7eb57"
      },
      "source": [
        "@benchmark Flux.train!(loss, params(m), ncycle(train_loader, epochs), opt)"
      ],
      "execution_count": 44,
      "outputs": [
        {
          "output_type": "execute_result",
          "data": {
            "text/plain": [
              "BenchmarkTools.Trial: \n",
              "  memory estimate:  61.96 GiB\n",
              "  allocs estimate:  2301574461\n",
              "  --------------\n",
              "  minimum time:     207.672 s (3.07% GC)\n",
              "  median time:      207.672 s (3.07% GC)\n",
              "  mean time:        207.672 s (3.07% GC)\n",
              "  maximum time:     207.672 s (3.07% GC)\n",
              "  --------------\n",
              "  samples:          1\n",
              "  evals/sample:     1"
            ]
          },
          "metadata": {
            "tags": []
          },
          "execution_count": 44
        }
      ]
    }
  ]
}